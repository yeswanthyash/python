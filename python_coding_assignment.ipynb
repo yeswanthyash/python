{
 "cells": [
  {
   "cell_type": "code",
   "execution_count": null,
   "id": "b8f766e1-2eb4-4e30-8115-c6cf5d12db8a",
   "metadata": {},
   "outputs": [],
   "source": [
    " Section: 1 Python Operators and Control Structures.\n",
    "\n",
    "Introduction: To execute and explaining the program by using an operators and control structures of an python code."
   ]
  },
  {
   "cell_type": "code",
   "execution_count": 25,
   "id": "4688d6a1-4323-4306-838a-54429897b658",
   "metadata": {},
   "outputs": [
    {
     "name": "stdout",
     "output_type": "stream",
     "text": [
      "Sample Output: 15\n"
     ]
    }
   ],
   "source": [
    "# Question 1: Calculate the sum of all numbers in a list\n",
    "\n",
    "# Sample Input\n",
    "numbers = [1, 2, 3, 4, 5]\n",
    "\n",
    "# Calculate the sum\n",
    "total_sum = 0\n",
    "for number in numbers:\n",
    "    total_sum += number\n",
    "\n",
    "# Sample Output\n",
    "print(\"Sample Output:\", total_sum)  # Output: 15"
   ]
  },
  {
   "cell_type": "code",
   "execution_count": null,
   "id": "d6f83991-c072-474b-8c6d-6c0cbe69878c",
   "metadata": {},
   "outputs": [],
   "source": [
    "Explaination: To calculate the numbers by using the symbol += and to get an total_sum value and to get an output."
   ]
  },
  {
   "cell_type": "code",
   "execution_count": 9,
   "id": "25fe464d-c08d-4be5-8fbb-d339818f52cf",
   "metadata": {},
   "outputs": [
    {
     "name": "stdout",
     "output_type": "stream",
     "text": [
      "25\n"
     ]
    }
   ],
   "source": [
    "# Question 2: What is the output of the following code?\n",
    "\n",
    "x = 5\n",
    "y = 2\n",
    "print(x ** y)  # x raised to the power of y\n",
    "\n",
    "# Sample Output"
   ]
  },
  {
   "cell_type": "code",
   "execution_count": null,
   "id": "3385e137-332c-4600-b8a5-011448147308",
   "metadata": {},
   "outputs": [],
   "source": [
    "Explaination: To explaining the above code that is exponentiation the values of 'x' and 'y' and to print the output."
   ]
  },
  {
   "cell_type": "code",
   "execution_count": 10,
   "id": "77fcdfac-51e2-4f11-8583-6c6430ad884e",
   "metadata": {},
   "outputs": [
    {
     "name": "stdout",
     "output_type": "stream",
     "text": [
      "True\n"
     ]
    }
   ],
   "source": [
    "# Question 3: Write a python program to check if a number is a palindrome or not using a while loop?\n",
    "\n",
    "def is_palindrome(num):\n",
    "    original_num = num\n",
    "    reversed_num = 0\n",
    "    \n",
    "    while num > 0:\n",
    "        digit = num % 10\n",
    "        reversed_num = reversed_num * 10 + digit\n",
    "        num //= 10\n",
    "    \n",
    "    return original_num == reversed_num\n",
    "\n",
    "# Sample Input\n",
    "num = 12321\n",
    "# Sample Output\n",
    "print(is_palindrome(num)) "
   ]
  },
  {
   "cell_type": "code",
   "execution_count": null,
   "id": "20580104-bf31-49e2-9306-41e5d5e794ed",
   "metadata": {},
   "outputs": [],
   "source": [
    "Explaination: The given input that could check is that palindrome by using reversed function by given input and to get an output of reversed."
   ]
  },
  {
   "cell_type": "code",
   "execution_count": 11,
   "id": "f79b6774-5ccd-463e-9ee6-3c0250c6a7e1",
   "metadata": {},
   "outputs": [
    {
     "name": "stdout",
     "output_type": "stream",
     "text": [
      "cherry\n"
     ]
    }
   ],
   "source": [
    "# Question 4: What is the output of the following code?\n",
    "\n",
    "fruits = ['apple', 'banana', 'cherry']\n",
    "# Output\n",
    "print(fruits[-1]) "
   ]
  },
  {
   "cell_type": "code",
   "execution_count": null,
   "id": "fdf08efc-3d09-4a90-bcd3-e532f24da7ff",
   "metadata": {},
   "outputs": [],
   "source": [
    "Explaination: The above code has to find an index value of the fruits value and to print an inverse value."
   ]
  },
  {
   "cell_type": "code",
   "execution_count": 12,
   "id": "4e0ea594-cf49-437a-b92b-0aabccdfac9e",
   "metadata": {},
   "outputs": [
    {
     "name": "stdout",
     "output_type": "stream",
     "text": [
      "3.0\n"
     ]
    }
   ],
   "source": [
    "# Question 5: Write a Python program to calculate the average of all numbers in a list using a for loop?\n",
    "\n",
    "def calculate_average(numbers):\n",
    "    total = 0\n",
    "    count = 0\n",
    "    \n",
    "    for number in numbers:\n",
    "        total += number\n",
    "        count += 1\n",
    "    \n",
    "    average = total / count if count != 0 else 0\n",
    "    return average\n",
    "\n",
    "# Sample Input\n",
    "numbers = [1, 2, 3, 4, 5]\n",
    "# Sample Output\n",
    "print(calculate_average(numbers)) "
   ]
  },
  {
   "cell_type": "code",
   "execution_count": null,
   "id": "d8c75f67-af24-4c70-813c-7b777e830f7a",
   "metadata": {},
   "outputs": [],
   "source": [
    "Explaination: In that code to calculate the average number value with help of if and else method and to get an output."
   ]
  },
  {
   "cell_type": "code",
   "execution_count": null,
   "id": "84008dba-e30b-4b68-98e2-b95e440eca60",
   "metadata": {},
   "outputs": [],
   "source": [
    "Section 2: List and Dictionaries.\n",
    "\n",
    " Introduction: To explain an list and dictionaries using in an programs."
   ]
  },
  {
   "cell_type": "code",
   "execution_count": 13,
   "id": "1b2e6039-db62-42ce-aa88-f3d372c58894",
   "metadata": {},
   "outputs": [
    {
     "name": "stdout",
     "output_type": "stream",
     "text": [
      "{'John': 90, 'Alice': 85, 'Bob': 95}\n"
     ]
    }
   ],
   "source": [
    "# Question 6: Write a python program to create a dictionary with students names as keys and their grades as values.\n",
    "\n",
    "# Sample Input\n",
    "students = ['John', 'Alice', 'Bob']\n",
    "grades = [90, 85, 95]\n",
    "\n",
    "# Creating the dictionary\n",
    "student_dict = dict(zip(students, grades))\n",
    "\n",
    "# Sample Output\n",
    "print(student_dict)"
   ]
  },
  {
   "cell_type": "code",
   "execution_count": null,
   "id": "cba7f1a7-52c7-4813-98e5-e9d1a634be0c",
   "metadata": {},
   "outputs": [],
   "source": [
    "Explaination: In an above program to create a dictionary for students and grades by using given input by using an dict keyword and zip function."
   ]
  },
  {
   "cell_type": "code",
   "execution_count": 14,
   "id": "3d676714-ae80-4c47-bf07-6b90bcddf58f",
   "metadata": {},
   "outputs": [
    {
     "name": "stdout",
     "output_type": "stream",
     "text": [
      "[2, 3]\n"
     ]
    }
   ],
   "source": [
    "# Question 7: What is the output of  the following code?\n",
    "\n",
    "numbers = [1, 2, 3, 4, 5]\n",
    "print(numbers[1:3])"
   ]
  },
  {
   "cell_type": "code",
   "execution_count": null,
   "id": "748cb12a-7b2e-478e-ba0c-c4c3e29a13ba",
   "metadata": {},
   "outputs": [],
   "source": [
    "Explaination: Their the code that has give values for number and to print a ratio and to get a output."
   ]
  },
  {
   "cell_type": "code",
   "execution_count": 15,
   "id": "3e0a10cc-8895-4ee1-9c4d-a20d21edbc52",
   "metadata": {},
   "outputs": [
    {
     "name": "stdout",
     "output_type": "stream",
     "text": [
      "[2, 4, 5, 6, 9]\n"
     ]
    }
   ],
   "source": [
    "# Question 8: Write a Python program to sort a list of numbers in ascending order using the sorted () function.\n",
    "\n",
    "# Sample input\n",
    "numbers = [4, 2, 9, 6, 5]\n",
    "\n",
    "# Sorting the list\n",
    "sorted_numbers = sorted(numbers)\n",
    "\n",
    "# Displaying the output\n",
    "print(sorted_numbers)\n"
   ]
  },
  {
   "cell_type": "code",
   "execution_count": null,
   "id": "034b1c59-d5a1-4e4b-96c1-785b800b123e",
   "metadata": {},
   "outputs": [],
   "source": [
    "Explaination: To sort a numbers orderly by using sort method and to get an output of sorted values."
   ]
  },
  {
   "cell_type": "code",
   "execution_count": 16,
   "id": "498ba49e-6801-473f-88df-be31e77073e2",
   "metadata": {},
   "outputs": [
    {
     "name": "stdout",
     "output_type": "stream",
     "text": [
      "10\n"
     ]
    }
   ],
   "source": [
    "# Question 9: What is the output of the followig code?\n",
    "\n",
    "fruits = {\n",
    "    'apple': 5,\n",
    "    'banana': 10,\n",
    "    'cherry': 15\n",
    "}\n",
    "\n",
    "# Getting the value of 'banana'\n",
    "output = fruits.get('banana')\n",
    "\n",
    "# Displaying the output\n",
    "print(output)"
   ]
  },
  {
   "cell_type": "code",
   "execution_count": null,
   "id": "669260ac-0ea9-432c-ac93-89376de3a1af",
   "metadata": {},
   "outputs": [],
   "source": [
    " Explaination: To get a value from friuts values and print a output for banana."
   ]
  },
  {
   "cell_type": "code",
   "execution_count": 17,
   "id": "f0043650-140a-4b1f-8bc7-e8c35716ee98",
   "metadata": {},
   "outputs": [
    {
     "name": "stdout",
     "output_type": "stream",
     "text": [
      "[1, 4, 9, 16, 25, 36, 49, 64, 81, 100]\n"
     ]
    }
   ],
   "source": [
    "# Question 10: Write a Python program to create a list of squares of all numbers from 1 to 10 using a list comprehension.\n",
    "\n",
    "# Using list comprehension to create a list of squares of numbers from 1 to 10\n",
    "squares = [x**2 for x in range(1, 11)]\n",
    "print(squares)"
   ]
  },
  {
   "cell_type": "code",
   "execution_count": null,
   "id": "d8df6bc5-3fc3-4007-a142-3159cc825f7c",
   "metadata": {},
   "outputs": [],
   "source": [
    "Explaination: To using an  exponentiation operator to find an range of x values."
   ]
  },
  {
   "cell_type": "code",
   "execution_count": null,
   "id": "fce801fe-c096-4340-aa4f-a2f6f67d3f6e",
   "metadata": {},
   "outputs": [],
   "source": [
    "Section:3  Advanced Topics\n",
    "\n",
    "Introduction: To do a program by using factorials, fibonacci sequence and inverted pyramid. And to get an output by write a code."
   ]
  },
  {
   "cell_type": "code",
   "execution_count": 18,
   "id": "a6e2e3da-1910-4f46-9209-26c50687026a",
   "metadata": {},
   "outputs": [
    {
     "name": "stdout",
     "output_type": "stream",
     "text": [
      "120\n"
     ]
    }
   ],
   "source": [
    "# Question 11: Write a Python program to calculate the factorial of a number using recursion.\n",
    "\n",
    "# Function to calculate factorial using recursion\n",
    "def factorial(num):\n",
    "    if num == 0 or num == 1:\n",
    "        return 1\n",
    "    else:\n",
    "        return num * factorial(num - 1)\n",
    "\n",
    "# Sample input\n",
    "num = 5\n",
    "print(factorial(num))"
   ]
  },
  {
   "cell_type": "code",
   "execution_count": null,
   "id": "18750725-cfec-4650-bc64-d945be6966d4",
   "metadata": {},
   "outputs": [],
   "source": [
    "Explaination: To find a factorial value by using a return function and to get a num value of that program."
   ]
  },
  {
   "cell_type": "code",
   "execution_count": 20,
   "id": "2ebe1d3f-0545-4c1f-8466-ef66ec7c152f",
   "metadata": {},
   "outputs": [
    {
     "name": "stdout",
     "output_type": "stream",
     "text": [
      "[5, 4, 3, 2, 1]\n"
     ]
    }
   ],
   "source": [
    "# Question 12:What is the output of the following code?\n",
    "\n",
    "# Define the list of numbers\n",
    "numbers = [1, 2, 3, 4, 5]\n",
    "\n",
    "# Print the reversed list\n",
    "print(list(reversed(numbers)))"
   ]
  },
  {
   "cell_type": "code",
   "execution_count": null,
   "id": "0edffde8-d8e9-413c-b5fb-c5c0ab9dbe58",
   "metadata": {},
   "outputs": [],
   "source": [
    "Explaination: To print a reversed list of numbers values and to get a output."
   ]
  },
  {
   "cell_type": "code",
   "execution_count": 21,
   "id": "b1428e8f-a500-416d-8796-0cfe27b3e83f",
   "metadata": {},
   "outputs": [
    {
     "name": "stdout",
     "output_type": "stream",
     "text": [
      "[0, 1, 1, 2, 3, 5, 8, 13, 21, 34]\n"
     ]
    }
   ],
   "source": [
    "# Question 13: Write a Python program to create a generator that yields the Fibonacci sequence up to the nth term.\n",
    "\n",
    "def fibonacci_generator(n):\n",
    "    a, b = 0, 1\n",
    "    for _ in range(n):\n",
    "        yield a\n",
    "        a, b = b, a + b\n",
    "\n",
    "# Sample Input\n",
    "n = 10\n",
    "\n",
    "# Get Fibonacci sequence\n",
    "fibonacci_sequence = list(fibonacci_generator(n))\n",
    "print(fibonacci_sequence)"
   ]
  },
  {
   "cell_type": "code",
   "execution_count": null,
   "id": "3dd7b7dc-c19e-47ec-82cf-30fe9b4e9e97",
   "metadata": {},
   "outputs": [],
   "source": [
    "Explaination: In an given range at an program that as to get a sequence list by using an fibonacci_ generator function and to get an output."
   ]
  },
  {
   "cell_type": "code",
   "execution_count": 22,
   "id": "2e82134c-a2bf-496a-96f2-ca84c32384af",
   "metadata": {},
   "outputs": [
    {
     "name": "stdout",
     "output_type": "stream",
     "text": [
      "3.141592653589793\n"
     ]
    }
   ],
   "source": [
    "# Question 14: What is the output of the following code?\n",
    "\n",
    "import math\n",
    "print(math.pi)"
   ]
  },
  {
   "cell_type": "code",
   "execution_count": null,
   "id": "f2fa8aa4-6e5f-45a5-bc7c-721171b123d5",
   "metadata": {},
   "outputs": [],
   "source": [
    "Explaination: To find an pi from import of math function and to get an output of pi value."
   ]
  },
  {
   "cell_type": "code",
   "execution_count": 23,
   "id": "65cf30ae-b5d1-49c1-af3b-70ff411b75dd",
   "metadata": {},
   "outputs": [
    {
     "name": "stdout",
     "output_type": "stream",
     "text": [
      "*********\n",
      " *******\n",
      "  *****\n",
      "   ***\n",
      "    *\n"
     ]
    }
   ],
   "source": [
    "# Question 15: Write a Python program to print the inverted star pyramid of height 5.\n",
    "\n",
    "def inverted_star_pyramid(height):\n",
    "    for i in range(height, 0, -1):\n",
    "        stars = '*' * (2 * i - 1)\n",
    "        spaces = ' ' * (height - i)\n",
    "        print(spaces + stars)\n",
    "\n",
    "inverted_star_pyramid(5)"
   ]
  },
  {
   "cell_type": "code",
   "execution_count": null,
   "id": "65f2aa9e-f9c6-4d67-a9ec-24deafc487ea",
   "metadata": {},
   "outputs": [],
   "source": [
    "Explaination: The above as to be defined asa the inverted pyramid by giving of * values in the range of given height and stars and spaces are addition and to get output."
   ]
  }
 ],
 "metadata": {
  "kernelspec": {
   "display_name": "Python 3 (ipykernel)",
   "language": "python",
   "name": "python3"
  },
  "language_info": {
   "codemirror_mode": {
    "name": "ipython",
    "version": 3
   },
   "file_extension": ".py",
   "mimetype": "text/x-python",
   "name": "python",
   "nbconvert_exporter": "python",
   "pygments_lexer": "ipython3",
   "version": "3.11.5"
  }
 },
 "nbformat": 4,
 "nbformat_minor": 5
}
